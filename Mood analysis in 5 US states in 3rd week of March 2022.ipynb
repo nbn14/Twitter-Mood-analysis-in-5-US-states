{
 "cells": [
  {
   "cell_type": "markdown",
   "id": "65b369e1",
   "metadata": {},
   "source": [
    "# Overview:\n",
    "In this notebook, we will be looking at sentiment analysis using recent tweets with a specific hashtag from a number of states in the US. <br>\n",
    "\n",
    "This notebook provides the code to:\n",
    "- Automatically get longitude and lattitude information from geocode.xyz to feed into locator of tweet identifier\n",
    "- Use tweepy package to extract most recent tweets based on search_word, specified date (all tweets up to this date) and location of users\n",
    "- Clean extracted tweets\n",
    "- Analyse sentiments of cleaned tweets using TextBlob by assining a polarity coefficient to each:\n",
    "    - TextBlob is a Lexicon-based or rule-based sentiment analyser. Each word is given a score based on a predefined word and weight dictionary. The aggregation of these individual scores result in an estimate for the sentence's polarity\n",
    "- Aggregate findings to map out relative sentiment in locations of interest\n",
    "\n",
    "<b> Note: </b> Both Twitter API and geocode.xyz API limit the number of searches that you can run using tokens and authentification code"
   ]
  },
  {
   "cell_type": "markdown",
   "id": "3482d2a8",
   "metadata": {},
   "source": [
    "## Import packages used for analysis"
   ]
  },
  {
   "cell_type": "code",
   "execution_count": 53,
   "id": "7b658e9b",
   "metadata": {},
   "outputs": [],
   "source": [
    "import os\n",
    "import tweepy as tw\n",
    "import pandas as pd\n",
    "import geocoder\n",
    "import urllib.parse\n",
    "import http.client\n",
    "from textblob import TextBlob\n",
    "import re\n",
    "\n",
    "import matplotlib.pyplot as plt"
   ]
  },
  {
   "cell_type": "markdown",
   "id": "85e71560",
   "metadata": {},
   "source": [
    "### 1. Define location lattitude and longitude using geocode.xyz API"
   ]
  },
  {
   "cell_type": "code",
   "execution_count": 7,
   "id": "2331febc",
   "metadata": {},
   "outputs": [],
   "source": [
    "def get_long_latt(locate):\n",
    "    \"\"\"\n",
    "    This function takes in the name in string of the location of interest and returns the value of longitude and lattitude\n",
    "    of that location.\n",
    "    Note:\n",
    "    ----\n",
    "    The function requires auth code obtained through registered user of geocode\n",
    "    \"\"\"\n",
    "    conn = http.client.HTTPConnection('geocode.xyz')\n",
    "    params = urllib.parse.urlencode({\n",
    "        'auth': 'XXXXXXXXXXXXXXXXXXXXXXXXXXX',\n",
    "        'locate': locate,\n",
    "        'region': \"US\",\n",
    "        'geoit': \"csv\",\n",
    "        'json': 0\n",
    "        })\n",
    "    conn.request('GET', '/?{}'.format(params))\n",
    "    res = conn.getresponse()\n",
    "    \n",
    "    data = res.read().decode(\"utf-8\").split(\",\")\n",
    "    if len(data)>0:  ##### search returns a legitimate result\n",
    "        return \",\".join([data[2],data[3]])\n",
    "    else:\n",
    "        return \"Location not found\""
   ]
  },
  {
   "cell_type": "code",
   "execution_count": 8,
   "id": "b9a361ba",
   "metadata": {},
   "outputs": [],
   "source": [
    "# Top US states for twitter user base\n",
    "state_list = [\"California\",\"Texas\",\"Florida\",\"Illinois\",\"New York\"]"
   ]
  },
  {
   "cell_type": "code",
   "execution_count": 9,
   "id": "72616041",
   "metadata": {},
   "outputs": [],
   "source": [
    "# Store the geo info in a dict\n",
    "state_loc = {}\n",
    "for state in state_list:\n",
    "    state_loc[state] = get_long_latt(state)"
   ]
  },
  {
   "cell_type": "markdown",
   "id": "8719b917",
   "metadata": {},
   "source": [
    "### 2. Using Tweepy to search for tweets with specific hashtags"
   ]
  },
  {
   "cell_type": "code",
   "execution_count": 4,
   "id": "718b5f16",
   "metadata": {},
   "outputs": [],
   "source": [
    "# Infomation on twitter's authentification\n",
    "consumer_key= 'XXXXXXXXXXXXXXXXXXXXXXXXXX'\n",
    "consumer_secret= 'XXXXXXXXXXXXXXXXXXXXXXXXXXXXXX'\n",
    "access_token= 'XXXXXXXXXXXXXXXXXXXXXXXXXXXXX'\n",
    "access_token_secret= 'XXXXXXXXXXXXXXXXXXXXXXXXXX'\n",
    "\n",
    "auth = tw.OAuthHandler(consumer_key, consumer_secret)\n",
    "auth.set_access_token(access_token, access_token_secret)\n",
    "api = tw.API(auth, wait_on_rate_limit=True)"
   ]
  },
  {
   "cell_type": "code",
   "execution_count": 41,
   "id": "a92bab5c",
   "metadata": {},
   "outputs": [],
   "source": [
    "# Define the search term and the date_since date as variables\n",
    "search_words = \"#Mood -is:retweet\"   # excluding retweet\n",
    "date_till = \"2022-03-22\"             # only include tweets up to this date, note that twitter only allows extraction of limited nummber of tweets / day \n",
    "geo_state = [i for i in state_loc.keys()]\n",
    "geolist = [i + \",500mi\" for i in state_loc.values()] # Define the radius of search range to be 100mi around the centre \n",
    "\n",
    "# Initialise tweepy object to extract tweets with a specific keyword from a specified location\n",
    "tweets_state_list = []\n",
    "for i in geolist:\n",
    "    tweets = tw.Cursor(api.search_tweets,\n",
    "              q=search_words,\n",
    "              lang=\"en\",tweet_mode =\"extended\",geocode=i,until=date_till).items(500) # twitter limit the number of extractable tweets\n",
    "    tweets_state_list.append(tweets)"
   ]
  },
  {
   "cell_type": "code",
   "execution_count": 42,
   "id": "29cc61cf",
   "metadata": {},
   "outputs": [],
   "source": [
    "# Collect tweets with defined criteria\n",
    "tweet_sum = []\n",
    "for i in range(len(tweets_state_list)):\n",
    "    tweet_data= [[tweet.user.id,tweet.user.location,tweet.user.followers_count,tweet.user.friends_count,tweet.user.description,\n",
    "              tweet.created_at,tweet.retweet_count,tweet.favorite_count,tweet.full_text] for tweet in tweets_state_list[i]]\n",
    "    columns=[\"user_id\",\"user_location\",\"no_followers\",\"no_friends\",\"acc_des\",\"tweet_created_at\",\"no_retweets\",\"no_favourite\",\"content\"]\n",
    "    df = pd.DataFrame(data = tweet_data,columns=columns)\n",
    "    df[\"search_location\"] = geo_state[i]  \n",
    "    tweet_sum.append(df)"
   ]
  },
  {
   "cell_type": "code",
   "execution_count": 43,
   "id": "3038e9fe",
   "metadata": {},
   "outputs": [],
   "source": [
    "# Write data into a presentable dataframe\n",
    "df_all = pd.concat(tweet_sum)\n",
    "# df_all.to_csv(\"pull_tweet.csv\")   #save the data to csv file for future use"
   ]
  },
  {
   "cell_type": "code",
   "execution_count": 44,
   "id": "386e31c0",
   "metadata": {},
   "outputs": [
    {
     "data": {
      "text/html": [
       "<div>\n",
       "<style scoped>\n",
       "    .dataframe tbody tr th:only-of-type {\n",
       "        vertical-align: middle;\n",
       "    }\n",
       "\n",
       "    .dataframe tbody tr th {\n",
       "        vertical-align: top;\n",
       "    }\n",
       "\n",
       "    .dataframe thead th {\n",
       "        text-align: right;\n",
       "    }\n",
       "</style>\n",
       "<table border=\"1\" class=\"dataframe\">\n",
       "  <thead>\n",
       "    <tr style=\"text-align: right;\">\n",
       "      <th></th>\n",
       "      <th>user_id</th>\n",
       "      <th>user_location</th>\n",
       "      <th>no_followers</th>\n",
       "      <th>no_friends</th>\n",
       "      <th>acc_des</th>\n",
       "      <th>tweet_created_at</th>\n",
       "      <th>no_retweets</th>\n",
       "      <th>no_favourite</th>\n",
       "      <th>content</th>\n",
       "      <th>search_location</th>\n",
       "    </tr>\n",
       "  </thead>\n",
       "  <tbody>\n",
       "    <tr>\n",
       "      <th>0</th>\n",
       "      <td>1415386899670126598</td>\n",
       "      <td>California, USA</td>\n",
       "      <td>26</td>\n",
       "      <td>30</td>\n",
       "      <td></td>\n",
       "      <td>2022-03-21 21:29:05+00:00</td>\n",
       "      <td>0</td>\n",
       "      <td>1</td>\n",
       "      <td>For Tonight @giveon #mood</td>\n",
       "      <td>California</td>\n",
       "    </tr>\n",
       "    <tr>\n",
       "      <th>1</th>\n",
       "      <td>189387620</td>\n",
       "      <td>Portsmouth, VA</td>\n",
       "      <td>475</td>\n",
       "      <td>629</td>\n",
       "      <td>LIVE, LOVE, LAUGH...Make the best of every mom...</td>\n",
       "      <td>2022-03-21 20:55:01+00:00</td>\n",
       "      <td>0</td>\n",
       "      <td>2</td>\n",
       "      <td>#mood because if not me, my family taking him ...</td>\n",
       "      <td>California</td>\n",
       "    </tr>\n",
       "    <tr>\n",
       "      <th>2</th>\n",
       "      <td>53427883</td>\n",
       "      <td>Atlanta, GA</td>\n",
       "      <td>88</td>\n",
       "      <td>55</td>\n",
       "      <td>Plus Boutique \\nCome take a peek!</td>\n",
       "      <td>2022-03-21 20:29:16+00:00</td>\n",
       "      <td>0</td>\n",
       "      <td>0</td>\n",
       "      <td>Restocked they leaving fast!😜\\n#cornbreadfed® ...</td>\n",
       "      <td>California</td>\n",
       "    </tr>\n",
       "    <tr>\n",
       "      <th>3</th>\n",
       "      <td>39459178</td>\n",
       "      <td>NYC</td>\n",
       "      <td>2264</td>\n",
       "      <td>2108</td>\n",
       "      <td>Always put Christ first. Cool NYC events/Fundr...</td>\n",
       "      <td>2022-03-21 19:48:48+00:00</td>\n",
       "      <td>2</td>\n",
       "      <td>3</td>\n",
       "      <td>It’s  about good vibes. You can count on it, t...</td>\n",
       "      <td>California</td>\n",
       "    </tr>\n",
       "    <tr>\n",
       "      <th>4</th>\n",
       "      <td>39459178</td>\n",
       "      <td>NYC</td>\n",
       "      <td>2264</td>\n",
       "      <td>2108</td>\n",
       "      <td>Always put Christ first. Cool NYC events/Fundr...</td>\n",
       "      <td>2022-03-21 19:47:50+00:00</td>\n",
       "      <td>3</td>\n",
       "      <td>4</td>\n",
       "      <td>It’s  about good vibes. You can count on it, t...</td>\n",
       "      <td>California</td>\n",
       "    </tr>\n",
       "  </tbody>\n",
       "</table>\n",
       "</div>"
      ],
      "text/plain": [
       "               user_id    user_location  no_followers  no_friends  \\\n",
       "0  1415386899670126598  California, USA            26          30   \n",
       "1            189387620   Portsmouth, VA           475         629   \n",
       "2             53427883      Atlanta, GA            88          55   \n",
       "3             39459178              NYC          2264        2108   \n",
       "4             39459178              NYC          2264        2108   \n",
       "\n",
       "                                             acc_des  \\\n",
       "0                                                      \n",
       "1  LIVE, LOVE, LAUGH...Make the best of every mom...   \n",
       "2                  Plus Boutique \\nCome take a peek!   \n",
       "3  Always put Christ first. Cool NYC events/Fundr...   \n",
       "4  Always put Christ first. Cool NYC events/Fundr...   \n",
       "\n",
       "           tweet_created_at  no_retweets  no_favourite  \\\n",
       "0 2022-03-21 21:29:05+00:00            0             1   \n",
       "1 2022-03-21 20:55:01+00:00            0             2   \n",
       "2 2022-03-21 20:29:16+00:00            0             0   \n",
       "3 2022-03-21 19:48:48+00:00            2             3   \n",
       "4 2022-03-21 19:47:50+00:00            3             4   \n",
       "\n",
       "                                             content search_location  \n",
       "0                          For Tonight @giveon #mood      California  \n",
       "1  #mood because if not me, my family taking him ...      California  \n",
       "2  Restocked they leaving fast!😜\\n#cornbreadfed® ...      California  \n",
       "3  It’s  about good vibes. You can count on it, t...      California  \n",
       "4  It’s  about good vibes. You can count on it, t...      California  "
      ]
     },
     "execution_count": 44,
     "metadata": {},
     "output_type": "execute_result"
    }
   ],
   "source": [
    "df_all.head()"
   ]
  },
  {
   "cell_type": "markdown",
   "id": "4cd00743",
   "metadata": {},
   "source": [
    "### 3. Clean text and get tweet sentiments with Textblob"
   ]
  },
  {
   "cell_type": "code",
   "execution_count": 33,
   "id": "a03b24d8",
   "metadata": {},
   "outputs": [],
   "source": [
    "# Define unitility functions\n",
    "def clean_tweet(tweet):\n",
    "    '''\n",
    "    This function to clean tweet text by removing links, special characters, specifically the function operates by\n",
    "    find any express with a-z and number and unicode \\w followed by \\S Matches any character which is not a whitespace character\n",
    "    '''\n",
    "    return ' '.join(re.sub(\"(@[A-Za-z0-9]+)|([^0-9A-Za-z \\t])|(\\w+:\\/\\/\\S+)\", \" \", tweet).split())\n",
    "\n",
    "def get_tweet_sentiment(clean_tweet):\n",
    "    '''\n",
    "    This function classifies sentiment of passed tweet\n",
    "    using textblob's sentiment method\n",
    "    '''\n",
    "    # create TextBlob object of passed tweet text\n",
    "    analysis = TextBlob(clean_tweet)\n",
    "    # set sentiment\n",
    "    if analysis.sentiment.polarity > 0:\n",
    "        return 1 ### positive\n",
    "    elif analysis.sentiment.polarity == 0:\n",
    "        return 0  ### neutral\n",
    "    else:\n",
    "        return -1 ### negative"
   ]
  },
  {
   "cell_type": "code",
   "execution_count": 48,
   "id": "c25cab86",
   "metadata": {},
   "outputs": [],
   "source": [
    "# Add clean tweet and sentiment to the original dataframe\n",
    "df_all[\"clean_tweet\"] = df_all[\"content\"].apply(clean_tweet)\n",
    "df_all[\"sentiment\"] = df_all[\"clean_tweet\"].apply(get_tweet_sentiment)"
   ]
  },
  {
   "cell_type": "code",
   "execution_count": 49,
   "id": "96844a56",
   "metadata": {},
   "outputs": [
    {
     "data": {
      "text/html": [
       "<div>\n",
       "<style scoped>\n",
       "    .dataframe tbody tr th:only-of-type {\n",
       "        vertical-align: middle;\n",
       "    }\n",
       "\n",
       "    .dataframe tbody tr th {\n",
       "        vertical-align: top;\n",
       "    }\n",
       "\n",
       "    .dataframe thead th {\n",
       "        text-align: right;\n",
       "    }\n",
       "</style>\n",
       "<table border=\"1\" class=\"dataframe\">\n",
       "  <thead>\n",
       "    <tr style=\"text-align: right;\">\n",
       "      <th></th>\n",
       "      <th>user_id</th>\n",
       "      <th>user_location</th>\n",
       "      <th>no_followers</th>\n",
       "      <th>no_friends</th>\n",
       "      <th>acc_des</th>\n",
       "      <th>tweet_created_at</th>\n",
       "      <th>no_retweets</th>\n",
       "      <th>no_favourite</th>\n",
       "      <th>content</th>\n",
       "      <th>search_location</th>\n",
       "      <th>clean_tweet</th>\n",
       "      <th>sentiment</th>\n",
       "    </tr>\n",
       "  </thead>\n",
       "  <tbody>\n",
       "    <tr>\n",
       "      <th>0</th>\n",
       "      <td>1415386899670126598</td>\n",
       "      <td>California, USA</td>\n",
       "      <td>26</td>\n",
       "      <td>30</td>\n",
       "      <td></td>\n",
       "      <td>2022-03-21 21:29:05+00:00</td>\n",
       "      <td>0</td>\n",
       "      <td>1</td>\n",
       "      <td>For Tonight @giveon #mood</td>\n",
       "      <td>California</td>\n",
       "      <td>For Tonight mood</td>\n",
       "      <td>0</td>\n",
       "    </tr>\n",
       "    <tr>\n",
       "      <th>1</th>\n",
       "      <td>189387620</td>\n",
       "      <td>Portsmouth, VA</td>\n",
       "      <td>475</td>\n",
       "      <td>629</td>\n",
       "      <td>LIVE, LOVE, LAUGH...Make the best of every mom...</td>\n",
       "      <td>2022-03-21 20:55:01+00:00</td>\n",
       "      <td>0</td>\n",
       "      <td>2</td>\n",
       "      <td>#mood because if not me, my family taking him ...</td>\n",
       "      <td>California</td>\n",
       "      <td>mood because if not me my family taking him out</td>\n",
       "      <td>0</td>\n",
       "    </tr>\n",
       "    <tr>\n",
       "      <th>2</th>\n",
       "      <td>53427883</td>\n",
       "      <td>Atlanta, GA</td>\n",
       "      <td>88</td>\n",
       "      <td>55</td>\n",
       "      <td>Plus Boutique \\nCome take a peek!</td>\n",
       "      <td>2022-03-21 20:29:16+00:00</td>\n",
       "      <td>0</td>\n",
       "      <td>0</td>\n",
       "      <td>Restocked they leaving fast!😜\\n#cornbreadfed® ...</td>\n",
       "      <td>California</td>\n",
       "      <td>Restocked they leaving fast cornbreadfed mood ...</td>\n",
       "      <td>1</td>\n",
       "    </tr>\n",
       "    <tr>\n",
       "      <th>3</th>\n",
       "      <td>39459178</td>\n",
       "      <td>NYC</td>\n",
       "      <td>2264</td>\n",
       "      <td>2108</td>\n",
       "      <td>Always put Christ first. Cool NYC events/Fundr...</td>\n",
       "      <td>2022-03-21 19:48:48+00:00</td>\n",
       "      <td>2</td>\n",
       "      <td>3</td>\n",
       "      <td>It’s  about good vibes. You can count on it, t...</td>\n",
       "      <td>California</td>\n",
       "      <td>It s about good vibes You can count on it the ...</td>\n",
       "      <td>1</td>\n",
       "    </tr>\n",
       "    <tr>\n",
       "      <th>4</th>\n",
       "      <td>39459178</td>\n",
       "      <td>NYC</td>\n",
       "      <td>2264</td>\n",
       "      <td>2108</td>\n",
       "      <td>Always put Christ first. Cool NYC events/Fundr...</td>\n",
       "      <td>2022-03-21 19:47:50+00:00</td>\n",
       "      <td>3</td>\n",
       "      <td>4</td>\n",
       "      <td>It’s  about good vibes. You can count on it, t...</td>\n",
       "      <td>California</td>\n",
       "      <td>It s about good vibes You can count on it the ...</td>\n",
       "      <td>1</td>\n",
       "    </tr>\n",
       "  </tbody>\n",
       "</table>\n",
       "</div>"
      ],
      "text/plain": [
       "               user_id    user_location  no_followers  no_friends  \\\n",
       "0  1415386899670126598  California, USA            26          30   \n",
       "1            189387620   Portsmouth, VA           475         629   \n",
       "2             53427883      Atlanta, GA            88          55   \n",
       "3             39459178              NYC          2264        2108   \n",
       "4             39459178              NYC          2264        2108   \n",
       "\n",
       "                                             acc_des  \\\n",
       "0                                                      \n",
       "1  LIVE, LOVE, LAUGH...Make the best of every mom...   \n",
       "2                  Plus Boutique \\nCome take a peek!   \n",
       "3  Always put Christ first. Cool NYC events/Fundr...   \n",
       "4  Always put Christ first. Cool NYC events/Fundr...   \n",
       "\n",
       "           tweet_created_at  no_retweets  no_favourite  \\\n",
       "0 2022-03-21 21:29:05+00:00            0             1   \n",
       "1 2022-03-21 20:55:01+00:00            0             2   \n",
       "2 2022-03-21 20:29:16+00:00            0             0   \n",
       "3 2022-03-21 19:48:48+00:00            2             3   \n",
       "4 2022-03-21 19:47:50+00:00            3             4   \n",
       "\n",
       "                                             content search_location  \\\n",
       "0                          For Tonight @giveon #mood      California   \n",
       "1  #mood because if not me, my family taking him ...      California   \n",
       "2  Restocked they leaving fast!😜\\n#cornbreadfed® ...      California   \n",
       "3  It’s  about good vibes. You can count on it, t...      California   \n",
       "4  It’s  about good vibes. You can count on it, t...      California   \n",
       "\n",
       "                                         clean_tweet  sentiment  \n",
       "0                                   For Tonight mood          0  \n",
       "1    mood because if not me my family taking him out          0  \n",
       "2  Restocked they leaving fast cornbreadfed mood ...          1  \n",
       "3  It s about good vibes You can count on it the ...          1  \n",
       "4  It s about good vibes You can count on it the ...          1  "
      ]
     },
     "execution_count": 49,
     "metadata": {},
     "output_type": "execute_result"
    }
   ],
   "source": [
    "df_all.head(5)"
   ]
  },
  {
   "cell_type": "code",
   "execution_count": 50,
   "id": "1baf3f4f",
   "metadata": {},
   "outputs": [
    {
     "name": "stdout",
     "output_type": "stream",
     "text": [
      "Maxmimum timestamp 2022-03-21 21:29:05+00:00\n",
      "Minimum timestamp 2022-03-14 14:16:06+00:00\n"
     ]
    }
   ],
   "source": [
    "# Explore the final dataframe\n",
    "print(f'Maxmimum timestamp {df.tweet_created_at.max()}')\n",
    "print(f'Minimum timestamp {df.tweet_created_at.min()}')"
   ]
  },
  {
   "cell_type": "markdown",
   "id": "cde39e3d",
   "metadata": {},
   "source": [
    "### 4. Visualise results "
   ]
  },
  {
   "cell_type": "code",
   "execution_count": 56,
   "id": "f9860550",
   "metadata": {},
   "outputs": [
    {
     "data": {
      "text/plain": [
       "Text(0.5, 1.0, 'Aggregated sentiment analysis in 5 US states from 14-21 Mar 2022')"
      ]
     },
     "execution_count": 56,
     "metadata": {},
     "output_type": "execute_result"
    },
    {
     "data": {
      "image/png": "[encoded data removed]",
      "text/plain": [
       "<Figure size 432x288 with 1 Axes>"
      ]
     },
     "metadata": {},
     "output_type": "display_data"
    }
   ],
   "source": [
    "plt.pie(x=df_all.sentiment.value_counts(), autopct=\"%.2f\", labels=df_all.sentiment.value_counts().index,radius=1, wedgeprops={'linewidth' : 1, 'edgecolor' : 'k' }, \n",
    "            textprops=dict(fontsize=12));\n",
    "plt.title(\"Aggregated sentiment analysis in 5 US states from 14-21 Mar 2022\")"
   ]
  },
  {
   "cell_type": "code",
   "execution_count": 37,
   "id": "757c3dd1",
   "metadata": {},
   "outputs": [],
   "source": [
    "summary = df_all.groupby(by=[\"search_location\",\"sentiment\"]).size()"
   ]
  },
  {
   "cell_type": "code",
   "execution_count": 40,
   "id": "44b1d288",
   "metadata": {},
   "outputs": [
    {
     "data": {
      "text/html": [
       "<div>\n",
       "<style scoped>\n",
       "    .dataframe tbody tr th:only-of-type {\n",
       "        vertical-align: middle;\n",
       "    }\n",
       "\n",
       "    .dataframe tbody tr th {\n",
       "        vertical-align: top;\n",
       "    }\n",
       "\n",
       "    .dataframe thead th {\n",
       "        text-align: right;\n",
       "    }\n",
       "</style>\n",
       "<table border=\"1\" class=\"dataframe\">\n",
       "  <thead>\n",
       "    <tr style=\"text-align: right;\">\n",
       "      <th>sentiment</th>\n",
       "      <th>-1</th>\n",
       "      <th>0</th>\n",
       "      <th>1</th>\n",
       "    </tr>\n",
       "    <tr>\n",
       "      <th>search_location</th>\n",
       "      <th></th>\n",
       "      <th></th>\n",
       "      <th></th>\n",
       "    </tr>\n",
       "  </thead>\n",
       "  <tbody>\n",
       "    <tr>\n",
       "      <th>California</th>\n",
       "      <td>2</td>\n",
       "      <td>16</td>\n",
       "      <td>13</td>\n",
       "    </tr>\n",
       "    <tr>\n",
       "      <th>Florida</th>\n",
       "      <td>16</td>\n",
       "      <td>40</td>\n",
       "      <td>56</td>\n",
       "    </tr>\n",
       "    <tr>\n",
       "      <th>Illinois</th>\n",
       "      <td>0</td>\n",
       "      <td>1</td>\n",
       "      <td>0</td>\n",
       "    </tr>\n",
       "    <tr>\n",
       "      <th>New York</th>\n",
       "      <td>14</td>\n",
       "      <td>43</td>\n",
       "      <td>61</td>\n",
       "    </tr>\n",
       "    <tr>\n",
       "      <th>Texas</th>\n",
       "      <td>1</td>\n",
       "      <td>5</td>\n",
       "      <td>8</td>\n",
       "    </tr>\n",
       "  </tbody>\n",
       "</table>\n",
       "</div>"
      ],
      "text/plain": [
       "sentiment        -1   0   1\n",
       "search_location            \n",
       "California        2  16  13\n",
       "Florida          16  40  56\n",
       "Illinois          0   1   0\n",
       "New York         14  43  61\n",
       "Texas             1   5   8"
      ]
     },
     "execution_count": 40,
     "metadata": {},
     "output_type": "execute_result"
    }
   ],
   "source": [
    "pd.crosstab(index=df_all.search_location,columns=df_all.sentiment)"
   ]
  },
  {
   "cell_type": "code",
   "execution_count": 69,
   "id": "4b913769",
   "metadata": {},
   "outputs": [
    {
     "data": {
      "image/png": "[encoded data removed]",
      "text/plain": [
       "<Figure size 432x288 with 1 Axes>"
      ]
     },
     "metadata": {
      "needs_background": "light"
     },
     "output_type": "display_data"
    }
   ],
   "source": [
    "# Using 100% bar chart to visualise\n",
    "prob = pd.crosstab(index=df_all.search_location,columns=df_all.sentiment,normalize=\"index\")# turn into percentage\n",
    "prob=prob*100\n",
    "prob.plot.bar(rot=0, stacked=True, edgecolor=\"k\")\n",
    "\n",
    "for j,i in zip(prob.index,range(len(prob.index))):\n",
    "    for cs, z in zip(prob.loc[j,:].cumsum(), prob.loc[j,:]):\n",
    "        plt.text(i,cs-z/2, f'{z:.2f}%', va = 'center', ha = 'center')\n",
    "\n",
    "plt.legend(bbox_to_anchor=(1.05, 1))\n",
    "plt.title(\"Breakdown of sentiment polarity of 5 US states\")\n",
    "plt.show()"
   ]
  }
 ],
 "metadata": {
  "kernelspec": {
   "display_name": "Python 3",
   "language": "python",
   "name": "python3"
  },
  "language_info": {
   "codemirror_mode": {
    "name": "ipython",
    "version": 3
   },
   "file_extension": ".py",
   "mimetype": "text/x-python",
   "name": "python",
   "nbconvert_exporter": "python",
   "pygments_lexer": "ipython3",
   "version": "3.8.8"
  }
 },
 "nbformat": 4,
 "nbformat_minor": 5
}
